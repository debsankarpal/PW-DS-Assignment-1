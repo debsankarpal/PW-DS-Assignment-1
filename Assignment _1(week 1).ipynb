{
 "cells": [
  {
   "cell_type": "markdown",
   "id": "98721cd9-7a5f-44d6-9171-2b81f08c8f89",
   "metadata": {},
   "source": [
    "Assignment 1 (week 1)"
   ]
  },
  {
   "cell_type": "raw",
   "id": "eacbbf86-4740-4b90-acd2-ba4c7a299518",
   "metadata": {},
   "source": [
    "Q1. Create one variable containing following type of data:\n",
    "(i) string\n",
    "(ii) list\n",
    "(iii) float\n",
    "(iv) tuple"
   ]
  },
  {
   "cell_type": "code",
   "execution_count": 11,
   "id": "62bfac54-f7a6-4d47-84a6-2c2d5c5954a0",
   "metadata": {},
   "outputs": [],
   "source": [
    "#Q1 Answer\n",
    "\n",
    "a = \"Happy\" #(i) string\n",
    "b = [5,9,\"perseverance\",\"inspire\",True,False,9+3j] #(ii) list\n",
    "c = 75.09 #(iii) float (mutable)\n",
    "d = (\"cold\",60,83,\"ball\") #(iv) tuple (immutable)"
   ]
  },
  {
   "cell_type": "raw",
   "id": "1cb39212-092d-41b4-8682-7e9380a6e23f",
   "metadata": {},
   "source": [
    "Q2. Given are some following variables containing data:\n",
    "(i) var1 = ‘ ‘\n",
    "(ii) var2 = '[DS, ML, Python]'\n",
    "(iii) var3 = [ ‘DS’ , ’ML’ , ‘Python’ ]\n",
    "(iv) var4 = 1."
   ]
  },
  {
   "cell_type": "code",
   "execution_count": 14,
   "id": "c01e7596-aed3-48e0-b63b-581780c865c7",
   "metadata": {},
   "outputs": [
    {
     "name": "stdout",
     "output_type": "stream",
     "text": [
      "<class 'str'>\n",
      "<class 'str'>\n",
      "<class 'list'>\n",
      "<class 'float'>\n"
     ]
    }
   ],
   "source": [
    "#Q2 Answer\n",
    "\n",
    "var1 = ' ' \n",
    "var2 = '[DS, ML, Python]'\n",
    "var3 = ['DS','ML', 'Python']\n",
    "var4 = 1.\n",
    "\n",
    "print(type(var1))\n",
    "print(type(var2))\n",
    "print(type(var3))\n",
    "print(type(var4))"
   ]
  },
  {
   "cell_type": "raw",
   "id": "13497561-ba09-486e-a787-396ede36d3fc",
   "metadata": {},
   "source": [
    "Q3. Explain the use of the following operators using an example:\n",
    "(i) /\n",
    "(ii) %\n",
    "(iii) //\n",
    "(iv) **"
   ]
  },
  {
   "cell_type": "code",
   "execution_count": 20,
   "id": "a87b5e36-255f-43bb-8625-cdd10a4950cd",
   "metadata": {},
   "outputs": [
    {
     "name": "stdout",
     "output_type": "stream",
     "text": [
      "Division operator  4.166666666666667\n",
      "Modulous operator  1\n",
      "Floor operator  4\n",
      "Power operator  16\n"
     ]
    }
   ],
   "source": [
    "#Q3 Answer\n",
    "\n",
    "print(\"Division operator \", 25/6) # '/' is a division operator which gives a float value upon division\n",
    "print(\"Modulous operator \", 7%3)  # '%' is a modulous operator which returns the remainder after division\n",
    "print(\"Floor operator \", 9//2)  # '//' is a floor operator which returns intiger value only after division\n",
    "print(\"Power operator \", 2**4)  # '**' is a power operator which returns exponentioal value "
   ]
  },
  {
   "cell_type": "raw",
   "id": "7a8f94c2-f8f5-4fbf-9aff-29ea64d8cd12",
   "metadata": {},
   "source": [
    "Q4. Create a list of length 10 of your choice containing multiple types of data. Using for loop print the\n",
    "element and its data type."
   ]
  },
  {
   "cell_type": "code",
   "execution_count": 22,
   "id": "3d6cc445-6c0e-4280-b3d2-5d3bfa3d337a",
   "metadata": {},
   "outputs": [
    {
     "name": "stdout",
     "output_type": "stream",
     "text": [
      "5             which is a Data type of  <class 'int'>\n",
      "T             which is a Data type of  <class 'str'>\n",
      "Diary             which is a Data type of  <class 'str'>\n",
      "50             which is a Data type of  <class 'int'>\n",
      "0.7             which is a Data type of  <class 'float'>\n",
      "True             which is a Data type of  <class 'bool'>\n",
      "love             which is a Data type of  <class 'str'>\n",
      "(8+4j)             which is a Data type of  <class 'complex'>\n",
      "90             which is a Data type of  <class 'int'>\n",
      "DATA             which is a Data type of  <class 'str'>\n"
     ]
    }
   ],
   "source": [
    "#Q4 Answer\n",
    "\n",
    "list1 = [5,'T','Diary',50,0.7,True,'love',8+4j,90,'DATA']\n",
    "\n",
    "for i in list1 :\n",
    "    print(i, \"            which is a Data type of \",type(i))\n",
    "    "
   ]
  },
  {
   "cell_type": "raw",
   "id": "ab30e12b-4000-4828-84d9-21fbcba81320",
   "metadata": {},
   "source": [
    "Q5. Using a while loop, verify if the number A is purely divisible by number B and if so then how many\n",
    "times it can be divisible."
   ]
  },
  {
   "cell_type": "code",
   "execution_count": 3,
   "id": "fc86007f-9343-4b47-b039-8a4c4932764f",
   "metadata": {},
   "outputs": [
    {
     "name": "stdin",
     "output_type": "stream",
     "text": [
      "Please enter the first number   40\n",
      "Please enter the second number   2\n"
     ]
    },
    {
     "name": "stdout",
     "output_type": "stream",
     "text": [
      "First number is purely divisble by the second number and it is  3  times divisible\n"
     ]
    }
   ],
   "source": [
    "#Q5 Answer\n",
    "\n",
    "A = int(input(\"Please enter the first number  \"))\n",
    "B = int(input(\"Please enter the second number  \")) \n",
    "i = 0 # for counting\n",
    "\n",
    "while A%B == 0 :\n",
    "    A = A/B\n",
    "    i += 1\n",
    "if i > 0 :\n",
    "    print(\"First number is purely divisble by the second number and it is \",i,\" times divisible\")\n",
    "else :\n",
    "    print(\"First number is not purely divisble by the second number\")\n",
    "    "
   ]
  },
  {
   "cell_type": "raw",
   "id": "a8e35e5a-c0cb-401f-b03f-b9e01a4728d2",
   "metadata": {},
   "source": [
    "Q6. Create a list containing 25 int type data. Using for loop and if-else condition print if the element is\n",
    "divisible by 3 or not."
   ]
  },
  {
   "cell_type": "code",
   "execution_count": 9,
   "id": "c62bc2c2-ed75-4c40-a346-1cf22f3a090b",
   "metadata": {},
   "outputs": [
    {
     "name": "stdout",
     "output_type": "stream",
     "text": [
      "1  is not divisible by 3\n",
      "2  is not divisible by 3\n",
      "3  is divisible by 3\n",
      "4  is not divisible by 3\n",
      "5  is not divisible by 3\n",
      "6  is divisible by 3\n",
      "7  is not divisible by 3\n",
      "8  is not divisible by 3\n",
      "9  is divisible by 3\n",
      "10  is not divisible by 3\n",
      "11  is not divisible by 3\n",
      "12  is divisible by 3\n",
      "13  is not divisible by 3\n",
      "14  is not divisible by 3\n",
      "15  is divisible by 3\n",
      "16  is not divisible by 3\n",
      "17  is not divisible by 3\n",
      "18  is divisible by 3\n",
      "19  is not divisible by 3\n",
      "20  is not divisible by 3\n",
      "21  is divisible by 3\n",
      "22  is not divisible by 3\n",
      "23  is not divisible by 3\n",
      "24  is divisible by 3\n",
      "25  is not divisible by 3\n"
     ]
    }
   ],
   "source": [
    "#Q6 Answer\n",
    "\n",
    "list_int = range(1,26)\n",
    "for i in list_int : \n",
    "    if i%3 == 0 :\n",
    "        print(i, \" is divisible by 3\")\n",
    "    else :\n",
    "        print(i,\" is not divisible by 3\")\n",
    "    \n"
   ]
  },
  {
   "cell_type": "raw",
   "id": "a4d5b64c-3798-4293-b385-d7bd58fbd88b",
   "metadata": {},
   "source": [
    "Q7. What do you understand about mutable and immutable data types? Give examples for both showing\n",
    "this property."
   ]
  },
  {
   "cell_type": "code",
   "execution_count": 17,
   "id": "e608d1f3-056d-45c1-906c-3bc3eeab6da6",
   "metadata": {},
   "outputs": [
    {
     "name": "stdout",
     "output_type": "stream",
     "text": [
      "New modified list  [5, 6, 36, 8, 9]\n"
     ]
    },
    {
     "ename": "TypeError",
     "evalue": "'str' object does not support item assignment",
     "output_type": "error",
     "traceback": [
      "\u001b[0;31m---------------------------------------------------------------------------\u001b[0m",
      "\u001b[0;31mTypeError\u001b[0m                                 Traceback (most recent call last)",
      "Cell \u001b[0;32mIn[17], line 17\u001b[0m\n\u001b[1;32m     12\u001b[0m \u001b[38;5;28mprint\u001b[39m(\u001b[38;5;124m\"\u001b[39m\u001b[38;5;124mNew modified list \u001b[39m\u001b[38;5;124m\"\u001b[39m, a)\n\u001b[1;32m     15\u001b[0m \u001b[38;5;124;03m'''In this below example when I tried to change index '1' object 'u' to 'x', it throws me an error that 'str' object\u001b[39;00m\n\u001b[1;32m     16\u001b[0m \u001b[38;5;124;03mdoes not support item assignment. Therefore str is an immutable object.'''\u001b[39;00m\n\u001b[0;32m---> 17\u001b[0m \u001b[43mb\u001b[49m\u001b[43m[\u001b[49m\u001b[38;5;241;43m1\u001b[39;49m\u001b[43m]\u001b[49m \u001b[38;5;241m=\u001b[39m \u001b[38;5;124m'\u001b[39m\u001b[38;5;124mx\u001b[39m\u001b[38;5;124m'\u001b[39m\n\u001b[1;32m     18\u001b[0m \u001b[38;5;28mprint\u001b[39m(b[\u001b[38;5;241m1\u001b[39m])\n",
      "\u001b[0;31mTypeError\u001b[0m: 'str' object does not support item assignment"
     ]
    }
   ],
   "source": [
    "#Q7 Answer\n",
    "\n",
    "'''Mutable objects can be modified or change after their creation whereas \n",
    "immutable objects can not be modified after creation. 'list' is mutable data type & 'str' is a immutable data type.'''\n",
    "\n",
    "\n",
    "a = [5,6,7,8,9] # a is a list of integers\n",
    "b = \"butterfly\" # b is a string\n",
    "\n",
    "# In this below example we have changed the value of index '2' from 7 to 36. Therefore list is a mutable object \n",
    "a[2] = 36\n",
    "print(\"New modified list \", a)\n",
    "\n",
    "\n",
    "'''In this below example when I tried to change index '1' object 'u' to 'x', it throws me an error that 'str' object\n",
    "does not support item assignment. Therefore str is an immutable object.'''\n",
    "b[1] = 'x'\n",
    "print(b[1])"
   ]
  },
  {
   "cell_type": "code",
   "execution_count": null,
   "id": "fc89a4e9-9ab5-4e58-a628-9a2fe814ea11",
   "metadata": {},
   "outputs": [],
   "source": []
  },
  {
   "cell_type": "code",
   "execution_count": null,
   "id": "995eb81d-937e-44d1-a909-ecf61ef55e91",
   "metadata": {
    "tags": []
   },
   "outputs": [],
   "source": []
  },
  {
   "cell_type": "code",
   "execution_count": null,
   "id": "04428cde-61b4-4865-89f5-fdcee4d09b91",
   "metadata": {},
   "outputs": [],
   "source": []
  },
  {
   "cell_type": "code",
   "execution_count": null,
   "id": "9000b1e9-c513-477e-91aa-abf760f27ec8",
   "metadata": {},
   "outputs": [],
   "source": []
  }
 ],
 "metadata": {
  "kernelspec": {
   "display_name": "Python 3 (ipykernel)",
   "language": "python",
   "name": "python3"
  },
  "language_info": {
   "codemirror_mode": {
    "name": "ipython",
    "version": 3
   },
   "file_extension": ".py",
   "mimetype": "text/x-python",
   "name": "python",
   "nbconvert_exporter": "python",
   "pygments_lexer": "ipython3",
   "version": "3.10.8"
  }
 },
 "nbformat": 4,
 "nbformat_minor": 5
}
